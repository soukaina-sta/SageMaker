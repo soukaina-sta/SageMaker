{
 "cells": [
  {
   "cell_type": "code",
   "execution_count": 1,
   "id": "0671f23b-c1c3-48c1-aff6-8aea6d2c9047",
   "metadata": {
    "tags": []
   },
   "outputs": [
    {
     "name": "stdout",
     "output_type": "stream",
     "text": [
      "sagemaker.config INFO - Not applying SDK defaults from location: /etc/xdg/sagemaker/config.yaml\n",
      "sagemaker.config INFO - Not applying SDK defaults from location: /home/ec2-user/.config/sagemaker/config.yaml\n"
     ]
    }
   ],
   "source": [
    "import pandas as pd\n",
    "from sklearn.model_selection import train_test_split\n",
    "import sagemaker\n",
    "import boto3\n",
    "from sagemaker import image_uris\n",
    "from sagemaker.estimator import Estimator\n",
    "from sagemaker.inputs import TrainingInput\n",
    "\n",
    "# Load the dataset and split into training and validation sets\n",
    "dataset = pd.read_csv('HousingData.csv')\n"
   ]
  },
  {
   "cell_type": "code",
   "execution_count": 2,
   "id": "86f8c03b-6236-46a8-8b06-d50f542a4e28",
   "metadata": {
    "tags": []
   },
   "outputs": [],
   "source": [
    "# Move 'medv' column to front\n",
    "dataset = pd.concat([dataset['medv'], dataset.drop(['medv'], axis=1)], axis=1)"
   ]
  },
  {
   "cell_type": "code",
   "execution_count": 3,
   "id": "8e3a4332-07d7-4341-bf1b-cfc4d3209d6c",
   "metadata": {
    "tags": []
   },
   "outputs": [
    {
     "name": "stdout",
     "output_type": "stream",
     "text": [
      "(455, 13)\n",
      "(51, 13)\n"
     ]
    }
   ],
   "source": [
    "training_dataset, validation_dataset = train_test_split(dataset, test_size=0.1)\n",
    "print(training_dataset.shape)\n",
    "print(validation_dataset.shape)\n"
   ]
  },
  {
   "cell_type": "code",
   "execution_count": 4,
   "id": "2038502c-6d40-4d3f-98cb-036ae4d5b2dc",
   "metadata": {
    "tags": []
   },
   "outputs": [],
   "source": [
    "# Save training and validation datasets as CSV files\n",
    "training_dataset.to_csv('training_dataset.csv', index=False, header=False)\n",
    "validation_dataset.to_csv('validation_dataset.csv', index=False, header=False)\n",
    "\n"
   ]
  },
  {
   "cell_type": "code",
   "execution_count": 5,
   "id": "26ca3866-90db-4cea-976f-0e14f169042d",
   "metadata": {
    "tags": []
   },
   "outputs": [
    {
     "name": "stdout",
     "output_type": "stream",
     "text": [
      "sagemaker.config INFO - Not applying SDK defaults from location: /etc/xdg/sagemaker/config.yaml\n",
      "sagemaker.config INFO - Not applying SDK defaults from location: /home/ec2-user/.config/sagemaker/config.yaml\n",
      "s3://sagemaker-us-east-1-141154829940/boston-housing/input/training/training_dataset.csv\n",
      "s3://sagemaker-us-east-1-141154829940/boston-housing/input/validation/validation_dataset.csv\n"
     ]
    }
   ],
   "source": [
    "# Initialize SageMaker session and S3 bucket\n",
    "sess = sagemaker.Session()\n",
    "bucket = sess.default_bucket()\n",
    "\n",
    "# Specify the S3 prefix for data upload\n",
    "prefix = 'boston-housing'\n",
    "\n",
    "# Upload training and validation data to S3\n",
    "training_data_path = sess.upload_data(path='training_dataset.csv', key_prefix=prefix + '/input/training')\n",
    "validation_data_path = sess.upload_data(path='validation_dataset.csv', key_prefix=prefix + '/input/validation')\n",
    "print(training_data_path)\n",
    "print(validation_data_path)\n"
   ]
  },
  {
   "cell_type": "code",
   "execution_count": 9,
   "id": "42b807b4-1645-4d79-8dcb-9da5350020cb",
   "metadata": {
    "tags": []
   },
   "outputs": [
    {
     "name": "stdout",
     "output_type": "stream",
     "text": [
      "683313688378.dkr.ecr.us-east-1.amazonaws.com/sagemaker-xgboost:1.7-1\n",
      "sagemaker.config INFO - Not applying SDK defaults from location: /etc/xdg/sagemaker/config.yaml\n",
      "sagemaker.config INFO - Not applying SDK defaults from location: /home/ec2-user/.config/sagemaker/config.yaml\n",
      "sagemaker.config INFO - Not applying SDK defaults from location: /etc/xdg/sagemaker/config.yaml\n",
      "sagemaker.config INFO - Not applying SDK defaults from location: /home/ec2-user/.config/sagemaker/config.yaml\n"
     ]
    }
   ],
   "source": [
    "# Retrieve the XGBoost container\n",
    "region = boto3.Session().region_name    \n",
    "container = sagemaker.image_uris.retrieve(\"xgboost\", region, \"1.7-1\")\n",
    "print(container)\n",
    "# Set up the XGBoost estimator\n",
    "xgb_estimator = Estimator(container,\n",
    "    role=sagemaker.get_execution_role(),\n",
    "    instance_count=1,\n",
    "    instance_type='ml.m5.large',\n",
    "    output_path=f's3://{bucket}/{prefix}/output'\n",
    ")\n",
    "\n",
    "# Set hyperparameters for XGBoost\n",
    "xgb_estimator.set_hyperparameters(\n",
    "    objective='reg:squarederror',  # for regression tasks\n",
    "    num_round=100,                  # number of boosting rounds\n",
    "    max_depth=5                     # maximum tree depth\n",
    ")\n"
   ]
  },
  {
   "cell_type": "code",
   "execution_count": 10,
   "id": "989c5796-79ab-453b-8c2a-baac48d5a502",
   "metadata": {
    "tags": []
   },
   "outputs": [],
   "source": [
    "\n",
    "# Create TrainingInput channels\n",
    "training_data_channel = TrainingInput(s3_data=training_data_path, content_type='csv')\n",
    "validation_data_channel = TrainingInput(s3_data=validation_data_path, content_type='csv')\n",
    "\n"
   ]
  },
  {
   "cell_type": "code",
   "execution_count": 11,
   "id": "e987f9e3-a64f-4b77-9012-af43aa3d70d4",
   "metadata": {
    "tags": []
   },
   "outputs": [
    {
     "name": "stderr",
     "output_type": "stream",
     "text": [
      "INFO:sagemaker:Creating training-job with name: sagemaker-xgboost-2023-12-17-16-46-54-041\n"
     ]
    },
    {
     "name": "stdout",
     "output_type": "stream",
     "text": [
      "2023-12-17 16:46:54 Starting - Starting the training job...\n",
      "2023-12-17 16:47:10 Starting - Preparing the instances for training.........\n",
      "2023-12-17 16:48:29 Downloading - Downloading input data...\n",
      "2023-12-17 16:49:16 Downloading - Downloading the training image......\n",
      "2023-12-17 16:50:17 Training - Training image download completed. Training in progress..\u001b[34m[2023-12-17 16:50:23.091 ip-10-0-234-58.ec2.internal:8 INFO utils.py:28] RULE_JOB_STOP_SIGNAL_FILENAME: None\u001b[0m\n",
      "\u001b[34m[2023-12-17 16:50:23.116 ip-10-0-234-58.ec2.internal:8 INFO profiler_config_parser.py:111] User has disabled profiler.\u001b[0m\n",
      "\u001b[34m[2023-12-17:16:50:23:INFO] Imported framework sagemaker_xgboost_container.training\u001b[0m\n",
      "\u001b[34m[2023-12-17:16:50:23:INFO] Failed to parse hyperparameter objective value reg:squarederror to Json.\u001b[0m\n",
      "\u001b[34mReturning the value itself\u001b[0m\n",
      "\u001b[34m[2023-12-17:16:50:23:INFO] No GPUs detected (normal if no gpus installed)\u001b[0m\n",
      "\u001b[34m[2023-12-17:16:50:23:INFO] Running XGBoost Sagemaker in algorithm mode\u001b[0m\n",
      "\u001b[34m[2023-12-17:16:50:23:INFO] Determined 0 GPU(s) available on the instance.\u001b[0m\n",
      "\u001b[34m[2023-12-17:16:50:23:INFO] Determined delimiter of CSV input is ','\u001b[0m\n",
      "\u001b[34m[2023-12-17:16:50:23:INFO] Determined delimiter of CSV input is ','\u001b[0m\n",
      "\u001b[34m[2023-12-17:16:50:23:INFO] File path /opt/ml/input/data/train of input files\u001b[0m\n",
      "\u001b[34m[2023-12-17:16:50:23:INFO] Making smlinks from folder /opt/ml/input/data/train to folder /tmp/sagemaker_xgboost_input_data\u001b[0m\n",
      "\u001b[34m[2023-12-17:16:50:23:INFO] creating symlink between Path /opt/ml/input/data/train/training_dataset.csv and destination /tmp/sagemaker_xgboost_input_data/training_dataset.csv-4172237479464376012\u001b[0m\n",
      "\u001b[34m[2023-12-17:16:50:23:INFO] files path: /tmp/sagemaker_xgboost_input_data\u001b[0m\n",
      "\u001b[34m[2023-12-17:16:50:23:INFO] Determined delimiter of CSV input is ','\u001b[0m\n",
      "\u001b[34m[2023-12-17:16:50:23:INFO] File path /opt/ml/input/data/validation of input files\u001b[0m\n",
      "\u001b[34m[2023-12-17:16:50:23:INFO] Making smlinks from folder /opt/ml/input/data/validation to folder /tmp/sagemaker_xgboost_input_data\u001b[0m\n",
      "\u001b[34m[2023-12-17:16:50:23:INFO] creating symlink between Path /opt/ml/input/data/validation/validation_dataset.csv and destination /tmp/sagemaker_xgboost_input_data/validation_dataset.csv-5158309026892508797\u001b[0m\n",
      "\u001b[34m[2023-12-17:16:50:23:INFO] files path: /tmp/sagemaker_xgboost_input_data\u001b[0m\n",
      "\u001b[34m[2023-12-17:16:50:23:INFO] Determined delimiter of CSV input is ','\u001b[0m\n",
      "\u001b[34m[2023-12-17:16:50:23:INFO] Single node training.\u001b[0m\n",
      "\u001b[34m[2023-12-17:16:50:23:INFO] Train matrix has 455 rows and 12 columns\u001b[0m\n",
      "\u001b[34m[2023-12-17:16:50:23:INFO] Validation matrix has 51 rows\u001b[0m\n",
      "\u001b[34m[2023-12-17 16:50:23.631 ip-10-0-234-58.ec2.internal:8 INFO json_config.py:92] Creating hook from json_config at /opt/ml/input/config/debughookconfig.json.\u001b[0m\n",
      "\u001b[34m[2023-12-17 16:50:23.631 ip-10-0-234-58.ec2.internal:8 INFO hook.py:206] tensorboard_dir has not been set for the hook. SMDebug will not be exporting tensorboard summaries.\u001b[0m\n",
      "\u001b[34m[2023-12-17 16:50:23.632 ip-10-0-234-58.ec2.internal:8 INFO hook.py:259] Saving to /opt/ml/output/tensors\u001b[0m\n",
      "\u001b[34m[2023-12-17 16:50:23.632 ip-10-0-234-58.ec2.internal:8 INFO state_store.py:77] The checkpoint config file /opt/ml/input/config/checkpointconfig.json does not exist.\u001b[0m\n",
      "\u001b[34m[2023-12-17:16:50:23:INFO] Debug hook created from config\u001b[0m\n",
      "\u001b[34m[2023-12-17 16:50:23.636 ip-10-0-234-58.ec2.internal:8 INFO hook.py:427] Monitoring the collections: metrics\u001b[0m\n",
      "\u001b[34m[2023-12-17 16:50:23.639 ip-10-0-234-58.ec2.internal:8 INFO hook.py:491] Hook is writing from the hook with pid: 8\u001b[0m\n",
      "\u001b[34m[0]#011train-rmse:17.11465#011validation-rmse:16.76800\u001b[0m\n",
      "\u001b[34m[1]#011train-rmse:12.35567#011validation-rmse:12.36349\u001b[0m\n",
      "\u001b[34m[2]#011train-rmse:9.00890#011validation-rmse:9.20709\u001b[0m\n",
      "\u001b[34m[3]#011train-rmse:6.67210#011validation-rmse:7.02723\u001b[0m\n",
      "\u001b[34m[4]#011train-rmse:5.02893#011validation-rmse:5.52318\u001b[0m\n",
      "\u001b[34m[5]#011train-rmse:3.91175#011validation-rmse:4.58965\u001b[0m\n",
      "\u001b[34m[6]#011train-rmse:3.14451#011validation-rmse:3.97193\u001b[0m\n",
      "\u001b[34m[7]#011train-rmse:2.60644#011validation-rmse:3.75314\u001b[0m\n",
      "\u001b[34m[8]#011train-rmse:2.21994#011validation-rmse:3.55742\u001b[0m\n",
      "\u001b[34m[9]#011train-rmse:1.96308#011validation-rmse:3.45280\u001b[0m\n",
      "\u001b[34m[10]#011train-rmse:1.79227#011validation-rmse:3.40242\u001b[0m\n",
      "\u001b[34m[11]#011train-rmse:1.63918#011validation-rmse:3.32075\u001b[0m\n",
      "\u001b[34m[12]#011train-rmse:1.54501#011validation-rmse:3.26113\u001b[0m\n",
      "\u001b[34m[13]#011train-rmse:1.46965#011validation-rmse:3.26913\u001b[0m\n",
      "\u001b[34m[14]#011train-rmse:1.40893#011validation-rmse:3.27920\u001b[0m\n",
      "\u001b[34m[15]#011train-rmse:1.36542#011validation-rmse:3.27806\u001b[0m\n",
      "\u001b[34m[16]#011train-rmse:1.32546#011validation-rmse:3.29280\u001b[0m\n",
      "\u001b[34m[17]#011train-rmse:1.28294#011validation-rmse:3.28052\u001b[0m\n",
      "\u001b[34m[18]#011train-rmse:1.25560#011validation-rmse:3.26920\u001b[0m\n",
      "\u001b[34m[19]#011train-rmse:1.23973#011validation-rmse:3.23780\u001b[0m\n",
      "\u001b[34m[20]#011train-rmse:1.18075#011validation-rmse:3.20888\u001b[0m\n",
      "\u001b[34m[21]#011train-rmse:1.15108#011validation-rmse:3.19344\u001b[0m\n",
      "\u001b[34m[22]#011train-rmse:1.10522#011validation-rmse:3.20223\u001b[0m\n",
      "\u001b[34m[23]#011train-rmse:1.07903#011validation-rmse:3.18393\u001b[0m\n",
      "\u001b[34m[24]#011train-rmse:1.03856#011validation-rmse:3.21747\u001b[0m\n",
      "\u001b[34m[25]#011train-rmse:1.00722#011validation-rmse:3.19669\u001b[0m\n",
      "\u001b[34m[26]#011train-rmse:0.96070#011validation-rmse:3.17925\u001b[0m\n",
      "\u001b[34m[27]#011train-rmse:0.94279#011validation-rmse:3.17723\u001b[0m\n",
      "\u001b[34m[28]#011train-rmse:0.92260#011validation-rmse:3.19128\u001b[0m\n",
      "\u001b[34m[29]#011train-rmse:0.88751#011validation-rmse:3.18270\u001b[0m\n",
      "\u001b[34m[30]#011train-rmse:0.86945#011validation-rmse:3.17911\u001b[0m\n",
      "\u001b[34m[31]#011train-rmse:0.82684#011validation-rmse:3.19057\u001b[0m\n",
      "\u001b[34m[32]#011train-rmse:0.80612#011validation-rmse:3.19622\u001b[0m\n",
      "\u001b[34m[33]#011train-rmse:0.76853#011validation-rmse:3.21362\u001b[0m\n",
      "\u001b[34m[34]#011train-rmse:0.74624#011validation-rmse:3.20915\u001b[0m\n",
      "\u001b[34m[35]#011train-rmse:0.72577#011validation-rmse:3.20496\u001b[0m\n",
      "\u001b[34m[36]#011train-rmse:0.71021#011validation-rmse:3.21166\u001b[0m\n",
      "\u001b[34m[37]#011train-rmse:0.70001#011validation-rmse:3.21107\u001b[0m\n",
      "\u001b[34m[38]#011train-rmse:0.66704#011validation-rmse:3.21396\u001b[0m\n",
      "\u001b[34m[39]#011train-rmse:0.65562#011validation-rmse:3.21812\u001b[0m\n",
      "\u001b[34m[40]#011train-rmse:0.64289#011validation-rmse:3.20717\u001b[0m\n",
      "\u001b[34m[41]#011train-rmse:0.62502#011validation-rmse:3.19463\u001b[0m\n",
      "\u001b[34m[42]#011train-rmse:0.60351#011validation-rmse:3.18988\u001b[0m\n",
      "\u001b[34m[43]#011train-rmse:0.58440#011validation-rmse:3.18588\u001b[0m\n",
      "\u001b[34m[44]#011train-rmse:0.55202#011validation-rmse:3.19725\u001b[0m\n",
      "\u001b[34m[45]#011train-rmse:0.54370#011validation-rmse:3.19964\u001b[0m\n",
      "\u001b[34m[46]#011train-rmse:0.53250#011validation-rmse:3.19870\u001b[0m\n",
      "\u001b[34m[47]#011train-rmse:0.52910#011validation-rmse:3.19800\u001b[0m\n",
      "\u001b[34m[48]#011train-rmse:0.51971#011validation-rmse:3.19268\u001b[0m\n",
      "\u001b[34m[49]#011train-rmse:0.50121#011validation-rmse:3.18240\u001b[0m\n",
      "\u001b[34m[50]#011train-rmse:0.48979#011validation-rmse:3.19764\u001b[0m\n",
      "\u001b[34m[51]#011train-rmse:0.48495#011validation-rmse:3.19935\u001b[0m\n",
      "\u001b[34m[52]#011train-rmse:0.47873#011validation-rmse:3.20591\u001b[0m\n",
      "\u001b[34m[53]#011train-rmse:0.47292#011validation-rmse:3.20094\u001b[0m\n",
      "\u001b[34m[54]#011train-rmse:0.46013#011validation-rmse:3.18875\u001b[0m\n",
      "\u001b[34m[55]#011train-rmse:0.44328#011validation-rmse:3.18673\u001b[0m\n",
      "\u001b[34m[56]#011train-rmse:0.42836#011validation-rmse:3.18251\u001b[0m\n",
      "\u001b[34m[57]#011train-rmse:0.41650#011validation-rmse:3.17701\u001b[0m\n",
      "\u001b[34m[58]#011train-rmse:0.41362#011validation-rmse:3.17613\u001b[0m\n",
      "\u001b[34m[59]#011train-rmse:0.40188#011validation-rmse:3.16752\u001b[0m\n",
      "\u001b[34m[60]#011train-rmse:0.39609#011validation-rmse:3.16316\u001b[0m\n",
      "\u001b[34m[61]#011train-rmse:0.38237#011validation-rmse:3.16932\u001b[0m\n",
      "\u001b[34m[62]#011train-rmse:0.35973#011validation-rmse:3.16093\u001b[0m\n",
      "\u001b[34m[63]#011train-rmse:0.35487#011validation-rmse:3.16459\u001b[0m\n",
      "\u001b[34m[64]#011train-rmse:0.33529#011validation-rmse:3.16807\u001b[0m\n",
      "\u001b[34m[65]#011train-rmse:0.33177#011validation-rmse:3.16736\u001b[0m\n",
      "\u001b[34m[66]#011train-rmse:0.32259#011validation-rmse:3.16848\u001b[0m\n",
      "\u001b[34m[67]#011train-rmse:0.31987#011validation-rmse:3.16612\u001b[0m\n",
      "\u001b[34m[68]#011train-rmse:0.30953#011validation-rmse:3.16734\u001b[0m\n",
      "\u001b[34m[69]#011train-rmse:0.30103#011validation-rmse:3.16878\u001b[0m\n",
      "\u001b[34m[70]#011train-rmse:0.29462#011validation-rmse:3.16958\u001b[0m\n",
      "\u001b[34m[71]#011train-rmse:0.28480#011validation-rmse:3.17534\u001b[0m\n",
      "\u001b[34m[72]#011train-rmse:0.27898#011validation-rmse:3.17343\u001b[0m\n",
      "\u001b[34m[73]#011train-rmse:0.26900#011validation-rmse:3.16640\u001b[0m\n",
      "\u001b[34m[74]#011train-rmse:0.25863#011validation-rmse:3.16549\u001b[0m\n",
      "\u001b[34m[75]#011train-rmse:0.25496#011validation-rmse:3.16744\u001b[0m\n",
      "\u001b[34m[76]#011train-rmse:0.24881#011validation-rmse:3.16688\u001b[0m\n",
      "\u001b[34m[77]#011train-rmse:0.24117#011validation-rmse:3.16951\u001b[0m\n",
      "\u001b[34m[78]#011train-rmse:0.23247#011validation-rmse:3.16484\u001b[0m\n",
      "\u001b[34m[79]#011train-rmse:0.22959#011validation-rmse:3.16681\u001b[0m\n",
      "\u001b[34m[80]#011train-rmse:0.22200#011validation-rmse:3.16549\u001b[0m\n",
      "\u001b[34m[81]#011train-rmse:0.21362#011validation-rmse:3.16218\u001b[0m\n",
      "\u001b[34m[82]#011train-rmse:0.20839#011validation-rmse:3.16017\u001b[0m\n",
      "\u001b[34m[83]#011train-rmse:0.20206#011validation-rmse:3.15777\u001b[0m\n",
      "\u001b[34m[84]#011train-rmse:0.19947#011validation-rmse:3.15834\u001b[0m\n",
      "\u001b[34m[85]#011train-rmse:0.18948#011validation-rmse:3.16160\u001b[0m\n",
      "\u001b[34m[86]#011train-rmse:0.18534#011validation-rmse:3.16626\u001b[0m\n",
      "\u001b[34m[87]#011train-rmse:0.17695#011validation-rmse:3.16555\u001b[0m\n",
      "\u001b[34m[88]#011train-rmse:0.17137#011validation-rmse:3.16646\u001b[0m\n",
      "\u001b[34m[89]#011train-rmse:0.16479#011validation-rmse:3.16774\u001b[0m\n",
      "\u001b[34m[90]#011train-rmse:0.16190#011validation-rmse:3.16682\u001b[0m\n",
      "\u001b[34m[91]#011train-rmse:0.15812#011validation-rmse:3.16409\u001b[0m\n",
      "\u001b[34m[92]#011train-rmse:0.15219#011validation-rmse:3.16170\u001b[0m\n",
      "\u001b[34m[93]#011train-rmse:0.14781#011validation-rmse:3.16134\u001b[0m\n",
      "\u001b[34m[94]#011train-rmse:0.14578#011validation-rmse:3.16154\u001b[0m\n",
      "\u001b[34m[95]#011train-rmse:0.13923#011validation-rmse:3.16204\u001b[0m\n",
      "\u001b[34m[96]#011train-rmse:0.13455#011validation-rmse:3.16216\u001b[0m\n",
      "\u001b[34m[97]#011train-rmse:0.13035#011validation-rmse:3.16092\u001b[0m\n",
      "\u001b[34m[98]#011train-rmse:0.12599#011validation-rmse:3.15880\u001b[0m\n",
      "\u001b[34m[99]#011train-rmse:0.12290#011validation-rmse:3.15968\u001b[0m\n",
      "\n",
      "2023-12-17 16:50:44 Uploading - Uploading generated training model\n",
      "2023-12-17 16:50:44 Completed - Training job completed\n",
      "Training seconds: 138\n",
      "Billable seconds: 138\n"
     ]
    }
   ],
   "source": [
    "# Fit the XGBoost model\n",
    "xgb_estimator.fit({'train': training_data_channel, 'validation': validation_data_channel})"
   ]
  },
  {
   "cell_type": "code",
   "execution_count": 12,
   "id": "c3543b4b-fc09-4be9-957a-735aa8a37cef",
   "metadata": {
    "tags": []
   },
   "outputs": [
    {
     "name": "stdout",
     "output_type": "stream",
     "text": [
      "2023-12-17 16:26:54          0 boston-housing/output/linear-learner-2023-12-17-16-23-13-971/debug-output/training_job_end.ts\n",
      "2023-12-17 16:26:53       1026 boston-housing/output/linear-learner-2023-12-17-16-23-13-971/output/model.tar.gz\n",
      "2023-12-17 16:26:54          0 boston-housing/output/linear-learner-2023-12-17-16-23-13-971/profiler-output/framework/training_job_end.ts\n",
      "2023-12-17 16:26:01      75656 boston-housing/output/linear-learner-2023-12-17-16-23-13-971/profiler-output/system/incremental/2023121716/1702830240.algo-1.json\n",
      "2023-12-17 16:26:00     184148 boston-housing/output/linear-learner-2023-12-17-16-23-13-971/profiler-output/system/incremental/2023121716/1702830300.algo-1.json\n",
      "2023-12-17 16:26:50     151804 boston-housing/output/linear-learner-2023-12-17-16-23-13-971/profiler-output/system/incremental/2023121716/1702830360.algo-1.json\n",
      "2023-12-17 16:26:54          0 boston-housing/output/linear-learner-2023-12-17-16-23-13-971/profiler-output/system/training_job_end.ts\n",
      "2023-12-17 16:50:25          0 boston-housing/output/sagemaker-xgboost-2023-12-17-16-46-54-041/debug-output/claim.smd\n",
      "2023-12-17 16:50:25       6276 boston-housing/output/sagemaker-xgboost-2023-12-17-16-46-54-041/debug-output/collections/000000000/worker_0_collections.json\n",
      "2023-12-17 16:50:25        218 boston-housing/output/sagemaker-xgboost-2023-12-17-16-46-54-041/debug-output/events/000000000000/000000000000_worker_0.tfevents\n",
      "2023-12-17 16:50:25        224 boston-housing/output/sagemaker-xgboost-2023-12-17-16-46-54-041/debug-output/events/000000000010/000000000010_worker_0.tfevents\n",
      "2023-12-17 16:50:25        224 boston-housing/output/sagemaker-xgboost-2023-12-17-16-46-54-041/debug-output/events/000000000020/000000000020_worker_0.tfevents\n",
      "2023-12-17 16:50:25        224 boston-housing/output/sagemaker-xgboost-2023-12-17-16-46-54-041/debug-output/events/000000000030/000000000030_worker_0.tfevents\n",
      "2023-12-17 16:50:25        224 boston-housing/output/sagemaker-xgboost-2023-12-17-16-46-54-041/debug-output/events/000000000040/000000000040_worker_0.tfevents\n",
      "2023-12-17 16:50:25        224 boston-housing/output/sagemaker-xgboost-2023-12-17-16-46-54-041/debug-output/events/000000000050/000000000050_worker_0.tfevents\n",
      "2023-12-17 16:50:25        224 boston-housing/output/sagemaker-xgboost-2023-12-17-16-46-54-041/debug-output/events/000000000060/000000000060_worker_0.tfevents\n",
      "2023-12-17 16:50:25        224 boston-housing/output/sagemaker-xgboost-2023-12-17-16-46-54-041/debug-output/events/000000000070/000000000070_worker_0.tfevents\n",
      "2023-12-17 16:50:25        224 boston-housing/output/sagemaker-xgboost-2023-12-17-16-46-54-041/debug-output/events/000000000080/000000000080_worker_0.tfevents\n",
      "2023-12-17 16:50:25        224 boston-housing/output/sagemaker-xgboost-2023-12-17-16-46-54-041/debug-output/events/000000000090/000000000090_worker_0.tfevents\n",
      "2023-12-17 16:50:25        287 boston-housing/output/sagemaker-xgboost-2023-12-17-16-46-54-041/debug-output/index/000000000/000000000000_worker_0.json\n",
      "2023-12-17 16:50:25        288 boston-housing/output/sagemaker-xgboost-2023-12-17-16-46-54-041/debug-output/index/000000000/000000000010_worker_0.json\n",
      "2023-12-17 16:50:25        288 boston-housing/output/sagemaker-xgboost-2023-12-17-16-46-54-041/debug-output/index/000000000/000000000020_worker_0.json\n",
      "2023-12-17 16:50:25        288 boston-housing/output/sagemaker-xgboost-2023-12-17-16-46-54-041/debug-output/index/000000000/000000000030_worker_0.json\n",
      "2023-12-17 16:50:25        288 boston-housing/output/sagemaker-xgboost-2023-12-17-16-46-54-041/debug-output/index/000000000/000000000040_worker_0.json\n",
      "2023-12-17 16:50:25        288 boston-housing/output/sagemaker-xgboost-2023-12-17-16-46-54-041/debug-output/index/000000000/000000000050_worker_0.json\n",
      "2023-12-17 16:50:25        288 boston-housing/output/sagemaker-xgboost-2023-12-17-16-46-54-041/debug-output/index/000000000/000000000060_worker_0.json\n",
      "2023-12-17 16:50:25        288 boston-housing/output/sagemaker-xgboost-2023-12-17-16-46-54-041/debug-output/index/000000000/000000000070_worker_0.json\n",
      "2023-12-17 16:50:25        288 boston-housing/output/sagemaker-xgboost-2023-12-17-16-46-54-041/debug-output/index/000000000/000000000080_worker_0.json\n",
      "2023-12-17 16:50:25        288 boston-housing/output/sagemaker-xgboost-2023-12-17-16-46-54-041/debug-output/index/000000000/000000000090_worker_0.json\n",
      "2023-12-17 16:50:39          0 boston-housing/output/sagemaker-xgboost-2023-12-17-16-46-54-041/debug-output/training_job_end.ts\n",
      "2023-12-17 16:50:39      63593 boston-housing/output/sagemaker-xgboost-2023-12-17-16-46-54-041/output/model.tar.gz\n",
      "2023-12-17 16:50:39          0 boston-housing/output/sagemaker-xgboost-2023-12-17-16-46-54-041/profiler-output/framework/training_job_end.ts\n",
      "2023-12-17 16:50:01      92559 boston-housing/output/sagemaker-xgboost-2023-12-17-16-46-54-041/profiler-output/system/incremental/2023121716/1702831680.algo-1.json\n",
      "2023-12-17 16:50:00     184396 boston-housing/output/sagemaker-xgboost-2023-12-17-16-46-54-041/profiler-output/system/incremental/2023121716/1702831740.algo-1.json\n",
      "2023-12-17 16:50:35     107539 boston-housing/output/sagemaker-xgboost-2023-12-17-16-46-54-041/profiler-output/system/incremental/2023121716/1702831800.algo-1.json\n",
      "2023-12-17 16:50:39          0 boston-housing/output/sagemaker-xgboost-2023-12-17-16-46-54-041/profiler-output/system/training_job_end.ts\n"
     ]
    }
   ],
   "source": [
    "%%bash -s \"$xgb_estimator.output_path\"\n",
    "aws s3 ls --recursive $1"
   ]
  },
  {
   "cell_type": "code",
   "execution_count": 13,
   "id": "d6f16b7c-85aa-41c5-b4f1-c4f37b89f528",
   "metadata": {
    "tags": []
   },
   "outputs": [
    {
     "name": "stdout",
     "output_type": "stream",
     "text": [
      "xgb-demo-17-16-51-24\n"
     ]
    }
   ],
   "source": [
    "from time import strftime, gmtime\n",
    "timestamp = strftime('%d-%H-%M-%S', gmtime())\n",
    "\n",
    "endpoint_name = 'xgb-demo-'+timestamp\n",
    "print(endpoint_name)"
   ]
  },
  {
   "cell_type": "code",
   "execution_count": 14,
   "id": "c736478b-a838-4cbb-a6e1-a77e96d9c250",
   "metadata": {
    "tags": []
   },
   "outputs": [
    {
     "name": "stderr",
     "output_type": "stream",
     "text": [
      "INFO:sagemaker:Creating model with name: sagemaker-xgboost-2023-12-17-16-51-26-370\n",
      "INFO:sagemaker:Creating endpoint-config with name xgb-demo-17-16-51-24\n",
      "INFO:sagemaker:Creating endpoint with name xgb-demo-17-16-51-24\n"
     ]
    },
    {
     "name": "stdout",
     "output_type": "stream",
     "text": [
      "-----!"
     ]
    }
   ],
   "source": [
    "xgb_predictor = xgb_estimator.deploy(endpoint_name=endpoint_name, \n",
    "                        initial_instance_count=1, \n",
    "                        instance_type='ml.m5.large')"
   ]
  },
  {
   "cell_type": "code",
   "execution_count": 15,
   "id": "9afef6f3-4f34-411e-87f0-c9c2f085fe1f",
   "metadata": {
    "tags": []
   },
   "outputs": [],
   "source": [
    "test_sample = '0.00632,18.00,2.310,0,0.5380,6.5750,65.20,4.0900,1,296.0,15.30,4.98'"
   ]
  },
  {
   "cell_type": "code",
   "execution_count": 17,
   "id": "20090213-c1fc-4533-950e-9b582866ce1c",
   "metadata": {
    "tags": []
   },
   "outputs": [
    {
     "name": "stdout",
     "output_type": "stream",
     "text": [
      "[['23.928556442260742']]\n"
     ]
    }
   ],
   "source": [
    "#ll_predictor.content_type = 'text/csv'\n",
    "xgb_predictor.serializer = sagemaker.serializers.CSVSerializer()\n",
    "xgb_predictor.deserializer = sagemaker.deserializers.CSVDeserializer()\n",
    "\n",
    "response = xgb_predictor.predict(test_sample)\n",
    "print(response)"
   ]
  },
  {
   "cell_type": "code",
   "execution_count": 18,
   "id": "37a4d1a0-b431-4e4b-ae15-a93b5f36351c",
   "metadata": {
    "tags": []
   },
   "outputs": [
    {
     "name": "stdout",
     "output_type": "stream",
     "text": [
      "[['23.928556442260742'], ['21.594999313354492']]\n",
      "xgb-demo-17-16-51-24\n"
     ]
    }
   ],
   "source": [
    "test_samples = ['0.00632,18.00,2.310,0,0.5380,6.5750,65.20,4.0900,1,296.0,15.30,4.98',\n",
    "                '0.02731,0.00,7.070,0,0.4690,6.4210,78.90,4.9671,2,242.0,17.80,9.14']\n",
    "\n",
    "response = xgb_predictor.predict(test_samples)\n",
    "print(response)\n",
    "print(xgb_predictor.endpoint_name)"
   ]
  },
  {
   "cell_type": "code",
   "execution_count": 19,
   "id": "85afc057-812a-41be-943b-b55461b6e9a2",
   "metadata": {
    "tags": []
   },
   "outputs": [
    {
     "name": "stderr",
     "output_type": "stream",
     "text": [
      "INFO:botocore.credentials:Found credentials from IAM Role: BaseNotebookInstanceEc2InstanceRole\n"
     ]
    },
    {
     "name": "stdout",
     "output_type": "stream",
     "text": [
      "b'23.928556442260742\\n'\n"
     ]
    }
   ],
   "source": [
    "runtime = boto3.Session().client(service_name='runtime.sagemaker') \n",
    "\n",
    "response = runtime.invoke_endpoint(EndpointName=endpoint_name, \n",
    "                                  ContentType='text/csv', \n",
    "                                  Body=test_sample)\n",
    "\n",
    "print(response['Body'].read())"
   ]
  },
  {
   "cell_type": "code",
   "execution_count": null,
   "id": "c6609fe1-d828-429a-bf66-56cb7a0479c9",
   "metadata": {},
   "outputs": [],
   "source": [
    "xgb_predictor.delete_endpoint()"
   ]
  }
 ],
 "metadata": {
  "kernelspec": {
   "display_name": "Python 3 (ipykernel)",
   "language": "python",
   "name": "python3"
  },
  "language_info": {
   "codemirror_mode": {
    "name": "ipython",
    "version": 3
   },
   "file_extension": ".py",
   "mimetype": "text/x-python",
   "name": "python",
   "nbconvert_exporter": "python",
   "pygments_lexer": "ipython3",
   "version": "3.9.7"
  }
 },
 "nbformat": 4,
 "nbformat_minor": 5
}
